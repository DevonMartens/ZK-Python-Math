{
 "cells": [
  {
   "cell_type": "markdown",
   "id": "2fda7503",
   "metadata": {},
   "source": [
    "# Zero Knowledge Week 1\n",
    "\n",
    "\n",
    "## Modular arithmetic essentials\n",
    "### Benchmarks\n",
    "Here is how you do modular arithmetic in python. Run the two cells below and note how different their execution times are. You should use `pow` instead of doing modular arithmetic with the elementary operators."
   ]
  },
  {
   "cell_type": "code",
   "execution_count": 3,
   "id": "6462ce3c",
   "metadata": {},
   "outputs": [
    {
     "name": "stdout",
     "output_type": "stream",
     "text": [
      "calculating 1590868 took 3.70 seconds\n"
     ]
    }
   ],
   "source": [
    "import time\n",
    "\n",
    "s = time.time()\n",
    "ans = 1002583 ** 939001 % 2003951\n",
    "t = time.time()\n",
    "\n",
    "print(\"calculating {} took {:.2f} seconds\".format(ans, t - s))"
   ]
  },
  {
   "cell_type": "code",
   "execution_count": 4,
   "id": "4d6986d8",
   "metadata": {},
   "outputs": [
    {
     "name": "stdout",
     "output_type": "stream",
     "text": [
      "calculating 1590868 operation took 0.00 seconds\n"
     ]
    }
   ],
   "source": [
    "s = time.time()\n",
    "ans = pow(1002583,939001,2003951)\n",
    "t = time.time()\n",
    "\n",
    "print(\"calculating {} operation took {:.2f} seconds\".format(ans, t - s))"
   ]
  },
  {
   "cell_type": "markdown",
   "id": "78efe55b",
   "metadata": {},
   "source": [
    "### Encrypting a number\n",
    "\n",
    "If we start with a generator `g` and raise it to a power `s` mod `n`, then in general we cannot determine `s` even if `g` and `n` are known. This is the discrete logarithm problem.\n",
    "\n",
    "We can say we \"encrypt\" `s` using the scheme\n",
    "\n",
    "$$ E(s) = g^{s} \\pmod n $$\n",
    "\n",
    "But this means we need to choose `g` and `n` carefully. If `g` is 3, `s` is 2, and `n` is a large number, we can intelligently guess what `s` is in this case. We want to pick `g` and `n` such that all members \"wrap around.\" We won't concern ourselves with this here, but you should be aware of it. The other issue is not picking a sufficiently large `n`. "
   ]
  },
  {
   "cell_type": "markdown",
   "id": "583b81c1",
   "metadata": {},
   "source": [
    "### Computing the discrete logarithm\n",
    "If we do `s_p = g^s mod n`, and make `g` and `n` public, then it is infeasible to compute `s`. But this is only true if `n` is sufficiently large.\n",
    "\n",
    "In the following example, we provide `s_p`, `g`, and `n`. Use python to bruteforce the solution to find `s`."
   ]
  },
  {
   "cell_type": "markdown",
   "id": "bc033ace",
   "metadata": {},
   "source": [
    "$$g^{ac} = (g^{a})^{c} \\pmod p$$"
   ]
  },
  {
   "cell_type": "code",
   "execution_count": 5,
   "id": "cb7eb435",
   "metadata": {},
   "outputs": [],
   "source": [
    "n = 9551\n",
    "g = 5\n",
    "encrypted_number = 5666"
   ]
  },
  {
   "cell_type": "markdown",
   "id": "5dfd12b4",
   "metadata": {},
   "source": [
    "<font color='red'>**Assignment 1: Use python to bruteforce the solution to find `s`**</font>"
   ]
  },
  {
   "cell_type": "code",
   "execution_count": 6,
   "id": "d397aa7e",
   "metadata": {},
   "outputs": [
    {
     "name": "stdout",
     "output_type": "stream",
     "text": [
      "The value of s such that 3^s mod 17 = 8 is s = 10\n"
     ]
    }
   ],
   "source": [
    "def brute_force(n,g,encrypted_number): \n",
    "    for i in range(0,10000,1): \n",
    "        if pow(g,i,n) == encrypted_number: \n",
    "            return i \n",
    "\n",
    "\n",
    "student_solution = brute_force(9551,5,5666)\n",
    "\n",
    "def find_s_brute_force(g, s_p, n):\n",
    "    \"\"\"\n",
    "    Finds the discrete logarithm s for given g, s_p, and n by brute force.\n",
    "    It solves for s in the equation g^s mod n = s_p.\n",
    "    \n",
    "    Parameters:\n",
    "    g (int): The base of the exponentiation.\n",
    "    s_p (int): The result of the modular exponentiation.\n",
    "    n (int): The modulus for the exponentiation.\n",
    "    \n",
    "    Returns:\n",
    "    int: The exponent s, if found. Otherwise, returns None.\n",
    "    \"\"\"\n",
    "    for s in range(n):\n",
    "        if pow(g, s, n) == s_p:\n",
    "            return s  # Found the correct s\n",
    "    return None  # s not found within the range [0, n)\n",
    "\n",
    "# Given values\n",
    "g = 3\n",
    "s_p = 8\n",
    "n = 17\n",
    "\n",
    "# Finding s\n",
    "s = find_s_brute_force(g, s_p, n)\n",
    "\n",
    "# Displaying the result\n",
    "if s is not None:\n",
    "    print(f\"The value of s such that {g}^s mod {n} = {s_p} is s = {s}\")\n",
    "else:\n",
    "    print(\"Could not find a value of s that satisfies the equation with the given parameters.\")\n"
   ]
  },
  {
   "cell_type": "code",
   "execution_count": 7,
   "id": "8fb84b98",
   "metadata": {},
   "outputs": [
    {
     "name": "stdout",
     "output_type": "stream",
     "text": [
      "student_solution is 2531\n"
     ]
    }
   ],
   "source": [
    "assert pow(g, student_solution, n) == encrypted_number\n",
    "print(\"student_solution is {}\".format(student_solution))"
   ]
  },
  {
   "cell_type": "markdown",
   "id": "adef384e",
   "metadata": {},
   "source": [
    "### Computing the discrete logarithm the smart way\n",
    "The smart way to do optimal algorithms is to [copy and paste from stackoverflow](https://stackoverflow.com/a/58665206/2079806). You do not have to understand how the library works\n",
    "\n",
    "<font color='red'>**Assignment 2: Break the cryptography below and obtain the secret number**</font>"
   ]
  },
  {
   "cell_type": "markdown",
   "id": "00e3ccb4",
   "metadata": {},
   "source": []
  },
  {
   "cell_type": "code",
   "execution_count": 8,
   "id": "d15cb7d8",
   "metadata": {},
   "outputs": [],
   "source": [
    "n = 1000004119\n",
    "g = 5\n",
    "encrypted_number = 767805982"
   ]
  },
  {
   "cell_type": "code",
   "execution_count": 9,
   "id": "62cdb28d",
   "metadata": {},
   "outputs": [],
   "source": [
    "from sympy.ntheory import discrete_log\n",
    "\n",
    "# Given values\n",
    "n = 1000004119\n",
    "g = 5\n",
    "encrypted_number = 767805982\n",
    "\n",
    "# Using the discrete_log function to find the exponent\n",
    "# that satisfies g^s mod n = encrypted_number\n",
    "student_solution = discrete_log(n, encrypted_number, g)\n",
    "\n",
    "# Verification to ensure the solution is correct\n",
    "assert pow(g, student_solution, n) == encrypted_number\n",
    "\n",
    "# Print the solution\n",
    "print(\"The secret number (s) is:\", student_solution)"
   ]
  },
  {
   "cell_type": "code",
   "execution_count": 10,
   "id": "b042bddd",
   "metadata": {},
   "outputs": [
    {
     "name": "stdout",
     "output_type": "stream",
     "text": [
      "student_solution is 420\n"
     ]
    }
   ],
   "source": []
  },
  {
   "cell_type": "markdown",
   "id": "f6211e5b",
   "metadata": {},
   "source": [
    "## How Zero Knowledge Addition Works\n",
    "\n",
    "A Zero Knowledge Proof verifies a computation is true without revealing a the inputs to the computation.\n",
    "\n",
    "That is, if a + b = c, then we want a \"trapdoor function\" E(x) such that E(a)■E(b) = E(c) where ■ is the binary operator of the group E(x) is an element of.\n",
    "\n",
    "So to prove a + b = c without revealing a, b, or c, we apply A = E(a), B = E(b), C = E(c) and give (A, B, C) to a verifier.\n",
    "\n",
    "The verifier will then check A ■ B == B.\n",
    "\n",
    "Although they don't know the values A, B, and C \"came from\", they do know the unencrypted values form a valid sum."
   ]
  },
  {
   "cell_type": "markdown",
   "id": "89ac98bb",
   "metadata": {},
   "source": [
    "## Zero Knowledge Addition\n",
    "The following property is very important. It lets us verify the addition of numbers (integers under addition) using another group: $g^x \\pmod p$ under multiplication. Because of the discrete logarithm, we cannot easily go from $g^x \\pmod p$ to recover x.\n",
    "\n",
    "a + b = c is homomorphic to $g^ag^b = g^c \\pmod p$.\n",
    "\n",
    "$$ g^{a}g^{b} = g^{a + b} \\pmod n $$\n",
    "\n",
    "Try a few different values of `a` and `b` yourself to see it in action"
   ]
  },
  {
   "cell_type": "code",
   "execution_count": 11,
   "id": "f8869242",
   "metadata": {},
   "outputs": [
    {
     "name": "stdout",
     "output_type": "stream",
     "text": [
      "False\n"
     ]
    }
   ],
   "source": [
    "a = 3\n",
    "b = 334\n",
    "print(pow(g, a, n) * pow(g, b, n) == pow(g, a + b, n))"
   ]
  },
  {
   "cell_type": "markdown",
   "id": "0545ba6d",
   "metadata": {},
   "source": [
    "Wait what?! That's supposed to be true?\n",
    "\n",
    "If the expression pow(g, a, n) * pow(g, b, n) == pow(g, a + b, n) reads False, it's likely due to an oversight in how the multiplication is handled with respect to modulo \n",
    "�\n",
    "n. Specifically, when you multiply pow(g, a, n) by pow(g, b, n), you need to take the result modulo \n",
    "�\n",
    "n again to ensure it's correctly compared to pow(g, a + b, n).\n",
    "\n",
    "\n",
    "\n",
    "<font color='red'>**Assignment 3: The code above has a bug. What is the bug?**</font>\n",
    "\n",
    "a = 3\n",
    "b = 334\n",
    "g = 5\n",
    "n = 1000004119\n",
    "\n",
    "# Correctly applying modulo n after multiplication\n",
    "result_corrected = (pow(g, a, n) * pow(g, b, n)) % n == pow(g, a + b, n)\n",
    "\n",
    "print(result_corrected)"
   ]
  },
  {
   "cell_type": "code",
   "execution_count": 12,
   "id": "bbacb1ae",
   "metadata": {},
   "outputs": [
    {
     "name": "stdout",
     "output_type": "stream",
     "text": [
      "True\n"
     ]
    }
   ],
   "source": [
    "print(((g**a) * (g**b) % n) == pow(g, a + b, n))"
   ]
  },
  {
   "cell_type": "markdown",
   "id": "3063b383",
   "metadata": {},
   "source": [
    "## Zero Knowledge Subtraction\n",
    "We can also encrypt the operation a - b. This is the same as \n",
    "\n",
    "$$ g^{a}g^{-b} = g^{a-b} $$\n",
    "\n",
    "But we can't just stick a negative sign in front of the exponent"
   ]
  },
  {
   "cell_type": "code",
   "execution_count": 13,
   "id": "10c8172d",
   "metadata": {},
   "outputs": [
    {
     "name": "stdout",
     "output_type": "stream",
     "text": [
      "0.03125\n"
     ]
    }
   ],
   "source": [
    "g = 2\n",
    "n = 3\n",
    "print(g ** -5 % n)"
   ]
  },
  {
   "cell_type": "markdown",
   "id": "80d0eb92",
   "metadata": {},
   "source": [
    "The above is not an integer! However, python is smart enough to know what you are doing if you use `pow`. To test this, we expect\n",
    "\n",
    "$$ g^{-a}g^{a} = 1 $$\n",
    "\n",
    "because g^0 is 1, and `a - a = 0`."
   ]
  },
  {
   "cell_type": "code",
   "execution_count": 14,
   "id": "dde06b67",
   "metadata": {},
   "outputs": [
    {
     "data": {
      "text/plain": [
       "True"
      ]
     },
     "execution_count": 14,
     "metadata": {},
     "output_type": "execute_result"
    }
   ],
   "source": [
    "a = 22\n",
    "pow(g, a, n) * pow(g, -a, n) % n == 1"
   ]
  },
  {
   "cell_type": "markdown",
   "id": "eba6db1a",
   "metadata": {},
   "source": [
    "So what magic is happening behind the scenes? The formula below is used to compute the modular inverse.\n",
    "\n",
    "$$ a^{-1} = a^{n - 2} \\pmod n $$"
   ]
  },
  {
   "cell_type": "code",
   "execution_count": 15,
   "id": "2ea5a6ba",
   "metadata": {},
   "outputs": [
    {
     "data": {
      "text/plain": [
       "True"
      ]
     },
     "execution_count": 15,
     "metadata": {},
     "output_type": "execute_result"
    }
   ],
   "source": [
    "a_inv = a ** (n - 2) % n\n",
    "a_inv * a % n == 1"
   ]
  },
  {
   "cell_type": "markdown",
   "id": "deadcf09",
   "metadata": {},
   "source": [
    "## Multiplication by a constant\n",
    "Multiplication by a constant is really just repeated addition\n",
    "\n",
    "$$ (g^{a})^{4} = g^{a} g^{a} g^{a} g^{a} $$\n",
    "\n",
    "This allows us to \"multiply by a constant\" in a zero knowledge fashion."
   ]
  },
  {
   "cell_type": "code",
   "execution_count": 16,
   "id": "21390185",
   "metadata": {},
   "outputs": [
    {
     "data": {
      "text/plain": [
       "True"
      ]
     },
     "execution_count": 16,
     "metadata": {},
     "output_type": "execute_result"
    }
   ],
   "source": [
    "a = 15\n",
    "pow(g, a, n) * pow(g, a, n) * pow(g, a, n) * pow(g, a, n) % n == pow(g, a * 4, n)"
   ]
  },
  {
   "cell_type": "markdown",
   "id": "d8854703",
   "metadata": {},
   "source": [
    "Of course, it would be annoying to multiply like that if you have a big coefficient, so the following is better"
   ]
  },
  {
   "cell_type": "code",
   "execution_count": 17,
   "id": "9704397d",
   "metadata": {},
   "outputs": [
    {
     "data": {
      "text/plain": [
       "True"
      ]
     },
     "execution_count": 17,
     "metadata": {},
     "output_type": "execute_result"
    }
   ],
   "source": [
    "pow(pow(g, a, n), 4 , n) == pow(g, a * 4, n)"
   ]
  },
  {
   "cell_type": "markdown",
   "id": "37dd20e6",
   "metadata": {},
   "source": [
    "## I know the solution to a systems of equations\n",
    "\n",
    "Now you should be able to prove to me that you know the solution to in a zero knowledge fashion\n",
    "\n",
    "$$\n",
    "2x + 8y = 7944\\\\\n",
    "5x + 3y = 4764\n",
    "$$\n",
    "\n",
    "<font color='red'>**Assignment 4: convert the above equation to a zk proof system where you can prove to a verifier (with an agreed upon g and n) that you know the solution to an agreed upon system of equation, without revealing the solution**</font>\n",
    "\n"
   ]
  },
  {
   "cell_type": "code",
   "execution_count": 2,
   "id": "73382356-bf6e-485f-8ff2-82eb521bddbe",
   "metadata": {},
   "outputs": [
    {
     "name": "stdout",
     "output_type": "stream",
     "text": [
      "Encrypted x: 95\n",
      "Encrypted y: 92\n"
     ]
    }
   ],
   "source": [
    "from sympy import symbols, Eq, solve\n",
    "\n",
    "# Define symbols\n",
    "x, y = symbols('x y')\n",
    "\n",
    "# Solve the system of equations\n",
    "solution = solve((Eq(2*x + 8*y, 7944), Eq(5*x + 3*y, 4764)), (x, y))\n",
    "\n",
    "# Given parameters (in a real scenario, n should be a large prime for security)\n",
    "g = 2\n",
    "n = 101\n",
    "\n",
    "# \"Encrypt\" the solutions by explicitly converting them to int\n",
    "x_encrypted = pow(g, int(solution[x]), n)\n",
    "y_encrypted = pow(g, int(solution[y]), n)\n",
    "\n",
    "print(\"Encrypted x:\", x_encrypted)\n",
    "print(\"Encrypted y:\", y_encrypted)\n",
    "\n"
   ]
  },
  {
   "cell_type": "markdown",
   "id": "0c7a9d38",
   "metadata": {},
   "source": [
    "## Convert a rational number to a finite field element\n",
    "\n",
    "<font color='red'>**Assignment 5: Compute 53/192 + 61/511 (mod 1033) in python. Show your work. You are not required to implement euclid's algorithm. Show it is equal to the original rational number sum: https://www.wolframalpha.com/input?i=53%2F192+%2B+61%2F511**</font>"
   ]
  },
  {
   "cell_type": "code",
   "execution_count": 5,
   "id": "92604672-99d8-45ff-a367-a18017380fc0",
   "metadata": {},
   "outputs": [
    {
     "name": "stdout",
     "output_type": "stream",
     "text": [
      "Modular sum of the fractions: 514\n",
      "Modular equivalent of the original sum: 408.46415321265494\n"
     ]
    }
   ],
   "source": [
    "# Function to compute the modular multiplicative inverse\n",
    "def modinv(a, modulus):\n",
    "    # Extended Euclidean Algorithm for finding the modular inverse\n",
    "    g, x, y = extended_gcd(a, modulus)\n",
    "    if g != 1:\n",
    "        raise Exception('Modular inverse does not exist')\n",
    "    else:\n",
    "        return x % modulus\n",
    "\n",
    "# Extended Euclidean Algorithm\n",
    "def extended_gcd(a, b):\n",
    "    if a == 0:\n",
    "        return (b, 0, 1)\n",
    "    else:\n",
    "        g, y, x = extended_gcd(b % a, a)\n",
    "        return (g, x - (b // a) * y, y)\n",
    "\n",
    "# Given values\n",
    "num1, den1 = 53, 192\n",
    "num2, den2 = 61, 511\n",
    "modulus = 1033\n",
    "\n",
    "# Compute the modular multiplicative inverse of the denominators\n",
    "den1_inv_mod = modinv(den1, modulus)\n",
    "den2_inv_mod = modinv(den2, modulus)\n",
    "\n",
    "# Compute modular sum of the fractions\n",
    "mod_sum = (num1 * den1_inv_mod + num2 * den2_inv_mod) % modulus\n",
    "\n",
    "# Calculate the original sum and its modular equivalent for comparison\n",
    "original_sum_fraction = (num1 / den1 + num2 / den2)\n",
    "original_sum_mod = (original_sum_fraction * modulus) % modulus\n",
    "\n",
    "print(f\"Modular sum of the fractions: {mod_sum}\")\n",
    "print(f\"Modular equivalent of the original sum: {original_sum_mod}\")\n",
    "\n"
   ]
  },
  {
   "cell_type": "code",
   "execution_count": 18,
   "id": "b9567643",
   "metadata": {},
   "outputs": [
    {
     "name": "stdout",
     "output_type": "stream",
     "text": [
      "True\n"
     ]
    }
   ],
   "source": [
    "x = 420\n",
    "y = 888\n",
    "print(pow(pow(2,x,11),2,11) * pow(pow(2,y,11),8,11) % 11 == pow(2,7944,11) and pow(pow(2,x,11),5,11) * pow(pow(2,y,11),3,11) % 11 == pow(2,4764,11))"
   ]
  },
  {
   "cell_type": "code",
   "execution_count": 19,
   "id": "ae71948e",
   "metadata": {},
   "outputs": [
    {
     "name": "stdout",
     "output_type": "stream",
     "text": [
      "True\n"
     ]
    }
   ],
   "source": [
    "\n",
    "numerator = 53*511 + 61*192\n",
    "denominator = 511 * 192\n",
    "\n",
    "numerator_mod = pow(numerator,1,1033)\n",
    "numerator_mod_inverse = pow(numerator,-1,1033)\n",
    "\n",
    "denominator_mod = pow(denominator,1,1033) \n",
    "denominator_mod_inverse = pow(denominator,-1,1033) \n",
    "\n",
    "finite_field_element = numerator_mod * denominator_mod_inverse % 1033\n",
    "\n",
    "\n",
    "print(denominator_mod_inverse == (finite_field_element * numerator_mod_inverse % 1033) and numerator_mod == (finite_field_element * denominator_mod % 1033))\n"
   ]
  }
 ],
 "metadata": {
  "kernelspec": {
   "display_name": "Python 3 (ipykernel)",
   "language": "python",
   "name": "python3"
  },
  "language_info": {
   "codemirror_mode": {
    "name": "ipython",
    "version": 3
   },
   "file_extension": ".py",
   "mimetype": "text/x-python",
   "name": "python",
   "nbconvert_exporter": "python",
   "pygments_lexer": "ipython3",
   "version": "3.9.7"
  }
 },
 "nbformat": 4,
 "nbformat_minor": 5
}
